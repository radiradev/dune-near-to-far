{
 "cells": [
  {
   "cell_type": "code",
   "execution_count": 5,
   "metadata": {},
   "outputs": [],
   "source": [
    "from flowmatching_bdt import FlowMatchingBDT\n",
    "import pandas as pd"
   ]
  },
  {
   "cell_type": "code",
   "execution_count": 9,
   "metadata": {},
   "outputs": [],
   "source": [
    "DATA_PATH = '../data/ndfd_reco_only_cuts.noFDhasel.csv'\n",
    "CONDITION_COLUMNS = [\n",
    "    'Ev_reco', 'Elep_reco', 'reco_numu', \n",
    "    'reco_nue', 'eRecoP',\n",
    "    'fd_x_vert', 'fd_y_vert', 'fd_z_vert',\n",
    "]\n",
    "\n",
    "FD_COLUMNS = [\n",
    "    'fd_numu_score', 'fd_nue_score', 'fd_numu_nu_E', \n",
    "    'fd_numu_had_E', 'fd_nue_nu_E', 'fd_nue_had_E',\n",
    "]\n",
    "\n",
    "\n",
    "def load_data(data_path, columns=None):\n",
    "    data = pd.read_csv(data_path)\n",
    "    if columns is not None:\n",
    "        data = data[columns]\n",
    "    return data"
   ]
  },
  {
   "cell_type": "code",
   "execution_count": 12,
   "metadata": {},
   "outputs": [
    {
     "name": "stderr",
     "output_type": "stream",
     "text": [
      "Training progress:   0%|          | 0/50 [00:00<?, ?it/s]"
     ]
    },
    {
     "data": {
      "application/vnd.jupyter.widget-view+json": {
       "model_id": "cfe580731faf46e4a45c40ed3aad7653",
       "version_major": 2,
       "version_minor": 0
      },
      "text/plain": [
       "  0%|          | 0/50 [00:00<?, ?it/s]"
      ]
     },
     "metadata": {},
     "output_type": "display_data"
    }
   ],
   "source": [
    "train_size = 10_000\n",
    "train_data = load_data(DATA_PATH, CONDITION_COLUMNS + FD_COLUMNS)[:train_size]\n",
    "\n",
    "flow_matching_bdt = FlowMatchingBDT()\n",
    "flow_matching_bdt.fit(train_data[FD_COLUMNS], train_data[CONDITION_COLUMNS])"
   ]
  },
  {
   "cell_type": "code",
   "execution_count": null,
   "metadata": {},
   "outputs": [],
   "source": []
  }
 ],
 "metadata": {
  "kernelspec": {
   "display_name": "torch2",
   "language": "python",
   "name": "python3"
  },
  "language_info": {
   "codemirror_mode": {
    "name": "ipython",
    "version": 3
   },
   "file_extension": ".py",
   "mimetype": "text/x-python",
   "name": "python",
   "nbconvert_exporter": "python",
   "pygments_lexer": "ipython3",
   "version": "3.11.9"
  }
 },
 "nbformat": 4,
 "nbformat_minor": 2
}
