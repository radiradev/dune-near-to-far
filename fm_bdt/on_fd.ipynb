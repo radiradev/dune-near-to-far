{
 "cells": [
  {
   "cell_type": "markdown",
   "metadata": {
    "id": "AvwwEfWfDuea"
   },
   "source": [
    "# Generating Tabular Data via XGBoost Models with Flow-Matching\n",
    "\n",
    "This notebook is a self-contained example showing how to train the novel Forest-Flow method to generate tabular data. The idea behind Forest-Flow is to learn Flow-Matching's vector field with XGBoost models instead of neural networks. The motivation is that it is known that Forests work currently better than neural networks on Tabular data tasks. This idea comes with some difficulties, for instance how to approximate Flow Matching's loss, and this notebook shows how to do it on a minimal example. The method, its training procedure and the experiments are described in [(Jolicoeur-Martineau et al. 2023)](https://arxiv.org/abs/2309.09968). The full code can be found [here](https://github.com/SamsungSAILMontreal/ForestDiffusion). "
   ]
  },
  {
   "cell_type": "markdown",
   "metadata": {
    "id": "nW9nJoK3wMWM"
   },
   "source": [
    "# Imports"
   ]
  },
  {
   "cell_type": "code",
   "execution_count": 1,
   "metadata": {
    "id": "zEBSd1b7HVVG"
   },
   "outputs": [],
   "source": [
    "import copy\n",
    "from functools import partial\n",
    "\n",
    "import matplotlib.pyplot as plt\n",
    "import numpy as np\n",
    "import torch\n",
    "import xgboost as xgb\n",
    "from joblib import Parallel, delayed\n",
    "from sklearn.datasets import load_iris, make_moons\n",
    "from sklearn.preprocessing import MinMaxScaler\n",
    "\n",
    "from torchcfm.conditional_flow_matching import ConditionalFlowMatcher\n",
    "import pandas as pd"
   ]
  },
  {
   "cell_type": "code",
   "execution_count": 3,
   "metadata": {},
   "outputs": [],
   "source": [
    "# set seed\n",
    "seed = 1980\n",
    "np.random.seed(seed)\n",
    "\n",
    "\n",
    "import numpy as np\n",
    "\n",
    "def pad_t_like_x(t, x):\n",
    "    \"\"\"Function to reshape the time vector t by the number of dimensions of x.\n",
    "    \n",
    "    Parameters\n",
    "    ----------\n",
    "    x : ndarray, shape (bs, *dim)\n",
    "        represents the source minibatch\n",
    "    t : ndarray, shape (bs)\n",
    "    \n",
    "    Returns\n",
    "    -------\n",
    "    t : ndarray, shape (bs, number of x dimensions)\n",
    "    \"\"\"\n",
    "    if isinstance(t, (float, int)):\n",
    "        return t\n",
    "    return np.reshape(t, (-1, *([1] * (x.ndim - 1))))\n",
    "\n",
    "class ConditionalFlowMatcher:\n",
    "    \"\"\"Base class for conditional flow matching methods using numpy.\"\"\"\n",
    "\n",
    "    def __init__(self, sigma=0.0):\n",
    "        \"\"\"Initialize the ConditionalFlowMatcher class with hyper-parameter sigma.\"\"\"\n",
    "        self.sigma = sigma\n",
    "\n",
    "    def compute_mu_t(self, x0, x1, t):\n",
    "        \"\"\"Compute the mean of the probability path N(t * x1 + (1 - t) * x0, sigma).\"\"\"\n",
    "        t = pad_t_like_x(t, x0)\n",
    "        return t * x1 + (1 - t) * x0\n",
    "\n",
    "    def compute_sigma_t(self, t):\n",
    "        \"\"\"Compute the standard deviation of the probability path N(t * x1 + (1 - t) * x0, sigma).\"\"\"\n",
    "        del t  # Unused variable t in the context of this function\n",
    "        return self.sigma\n",
    "\n",
    "    def sample_xt(self, x0, x1, t, epsilon):\n",
    "        \"\"\"Draw a sample from the probability path N(t * x1 + (1 - t) * x0, sigma).\"\"\"\n",
    "        mu_t = self.compute_mu_t(x0, x1, t)\n",
    "        sigma_t = self.compute_sigma_t(t)\n",
    "        sigma_t = pad_t_like_x(sigma_t, x0)\n",
    "        return mu_t + epsilon * sigma_t\n",
    "\n",
    "    def compute_conditional_flow(self, x0, x1, t, xt):\n",
    "        \"\"\"Compute the conditional vector field ut(x1|x0) = x1 - x0.\"\"\"\n",
    "        del t, xt  # Unused variables\n",
    "        return x1 - x0\n",
    "\n",
    "    def sample_noise_like(self, x):\n",
    "        \"\"\"Sample noise from a normal distribution N(0, 1) with the same shape as x.\"\"\"\n",
    "        return np.random.randn(*x.shape)\n",
    "\n",
    "    def sample_location_and_conditional_flow(self, x0, x1, t=None, return_noise=False):\n",
    "        \"\"\"Compute the sample xt and the conditional vector field ut.\"\"\"\n",
    "        if t is None:\n",
    "            t = np.random.rand(x0.shape[0])\n",
    "        assert len(t) == x0.shape[0], \"t must have the same batch size dimension as x0\"\n",
    "        \n",
    "        eps = self.sample_noise_like(x0)\n",
    "        xt = self.sample_xt(x0, x1, t, eps)\n",
    "        ut = self.compute_conditional_flow(x0, x1, t, xt)\n",
    "        if return_noise:\n",
    "            return t, xt, ut, eps\n",
    "        else:\n",
    "            return t, xt, ut\n",
    "\n",
    "    def compute_lambda(self, t):\n",
    "        \"\"\"Compute the lambda function.\"\"\"\n",
    "        sigma_t = self.compute_sigma_t(t)\n",
    "        return 2 * sigma_t / (self.sigma**2 + 1e-8)"
   ]
  },
  {
   "cell_type": "markdown",
   "metadata": {
    "id": "9tIIxR1eHTsm"
   },
   "source": [
    "As example, we use [Iris](https://en.wikipedia.org/wiki/Iris_flower_data_set), a classic tabular dataset about flowers with 150 observations, 4 input continuous variables (sepal length, sepal width, petal length, and petal width), and 1 categorical outcome variable (3 categories of flowers; setosa, versicolor, and virginica)."
   ]
  },
  {
   "cell_type": "code",
   "execution_count": 51,
   "metadata": {
    "id": "4WJCRVrqDVIw"
   },
   "outputs": [
    {
     "name": "stdout",
     "output_type": "stream",
     "text": [
      "Index(['eventID', 'cafTree_event', 'isFHC', 'isCC', 'nuPDG', 'NuMomX',\n",
      "       'NuMomY', 'NuMomZ', 'Ev', 'mode',\n",
      "       ...\n",
      "       'fd_nue_nu_E', 'fd_nue_had_E', 'fd_nue_lep_E', 'fd_nue_reco_method',\n",
      "       'fd_eventID.1', 'fd_x_vert', 'fd_y_vert', 'fd_z_vert', 'run_id',\n",
      "       'unique_id'],\n",
      "      dtype='object', length=102)\n"
     ]
    }
   ],
   "source": [
    "df = pd.read_csv('/global/homes/r/rradev/near_to_far/data/ndfd_reco_only_cuts.noFDhasel_oldg4params.csv')[:10_000]\n",
    "print(df.columns)\n",
    "train_cols = ['fd_numu_score', 'fd_nue_score', 'fd_numu_nu_E', 'fd_numu_had_E', 'fd_nue_nu_E', 'fd_nue_had_E']\n",
    "cond_cols = [\n",
    "                'eRecoP', 'eRecoN', 'eRecoPip', \n",
    "                'eRecoPim', 'eRecoPi0', 'eRecoOther', \n",
    "                'Ev_reco', 'Elep_reco', 'theta_reco',\n",
    "                'reco_numu', 'reco_nc', 'reco_nue', 'reco_lepton_pdg',\n",
    "                'fd_x_vert', 'fd_y_vert', 'fd_z_vert',\n",
    "            ]\n",
    "train = df[train_cols]\n",
    "cond = df[cond_cols]\n",
    "\n",
    "\n",
    "X = train.values\n",
    "condition = cond.values\n",
    "\n",
    "# shuffle the observations\n",
    "new_perm = np.random.permutation(X.shape[0])\n",
    "np.take(X, new_perm, axis=0, out=X)\n",
    "np.take(condition, new_perm, axis=0, out=condition)\n",
    "\n",
    "\n",
    "# Save data before adding missing values\n",
    "X_true = copy.deepcopy(X)\n",
    "condition_true = copy.deepcopy(condition)"
   ]
  },
  {
   "cell_type": "markdown",
   "metadata": {
    "id": "t9PiFTtrIWgl"
   },
   "source": [
    "We set the hyperparameters here."
   ]
  },
  {
   "cell_type": "code",
   "execution_count": 52,
   "metadata": {
    "id": "TDYP6yz-IHBt"
   },
   "outputs": [],
   "source": [
    "# Main hyperparameters\n",
    "n_t = 50  # number of flow steps (higher is better, 50 is enough for great performance)\n",
    "duplicate_K = 100  # number of different noise sample per real data sample (higher is better)\n",
    "\n",
    "# XGBoost hyperparameters\n",
    "max_depth = 7\n",
    "n_estimators = 100\n",
    "eta = 0.3\n",
    "tree_method = \"hist\"\n",
    "reg_lambda = 0.0\n",
    "reg_alpha = 0.0\n",
    "subsample = 1.0"
   ]
  },
  {
   "cell_type": "markdown",
   "metadata": {
    "id": "xlDzllCzt-AP"
   },
   "source": [
    "We do the data preprocessing, which includes min/max normalization and extracting the $x(t)$, $y$."
   ]
  },
  {
   "cell_type": "code",
   "execution_count": 53,
   "metadata": {
    "id": "6xamj-lqIHG5"
   },
   "outputs": [],
   "source": [
    "# Save min/max of the values\n",
    "X_min = np.nanmin(X, axis=0, keepdims=1)\n",
    "X_max = np.nanmax(X, axis=0, keepdims=1)\n",
    "\n",
    "# Min-Max scaling of the variables\n",
    "# scaler = MinMaxScaler(feature_range=(-1, 1))\n",
    "# X_scaled = scaler.fit_transform(X)\n",
    "\n",
    "\n",
    "# Save shape\n",
    "b, c = X.shape\n",
    "\n",
    "# we duplicate the data multiple times, so that X0 is k times bigger, so that we can have k random noise z associated per sample\n",
    "X1 = np.tile(X, (duplicate_K, 1))\n",
    "conditions = np.tile(condition, (duplicate_K, 1))\n",
    "\n",
    "# Generate noise data\n",
    "X0 = np.random.normal(size=X1.shape)"
   ]
  },
  {
   "cell_type": "code",
   "execution_count": 5,
   "metadata": {},
   "outputs": [
    {
     "data": {
      "text/plain": [
       "((100000, 1), (100000, 2), (100000, 2))"
      ]
     },
     "execution_count": 5,
     "metadata": {},
     "output_type": "execute_result"
    }
   ],
   "source": [
    "conditions.shape, X0.shape, X1.shape"
   ]
  },
  {
   "cell_type": "code",
   "execution_count": 54,
   "metadata": {
    "id": "SkAnNB_tn2Tt"
   },
   "outputs": [],
   "source": [
    "# Build [X(t), y] at multiple values of t\n",
    "\n",
    "# Define Independent Conditional Flow Matching (I-CFM)\n",
    "FM = ConditionalFlowMatcher(sigma=0.0)\n",
    "\n",
    "# Time levels\n",
    "t_levels = np.linspace(1e-3, 1, num=n_t)\n",
    "\n",
    "# Interpolation between x0 and x1 (xt)\n",
    "X_train = np.zeros((n_t, X0.shape[0], X0.shape[1]))  # [n_t, b, c]\n",
    "\n",
    "# Output to predict (ut)\n",
    "y_train = np.zeros((n_t, X0.shape[0], X0.shape[1]))  # [n_t, b, c]\n",
    "\n",
    "# Fill with xt and ut\n",
    "for i in range(n_t):\n",
    "    t = torch.ones(X0.shape[0]) * t_levels[i]  # current t\n",
    "    _, xt, ut = FM.sample_location_and_conditional_flow(\n",
    "        torch.from_numpy(X0), torch.from_numpy(X1), t=t\n",
    "    )\n",
    "    X_train[i], y_train[i] = xt.numpy(), ut.numpy()\n"
   ]
  },
  {
   "cell_type": "code",
   "execution_count": 21,
   "metadata": {},
   "outputs": [
    {
     "data": {
      "text/plain": [
       "((1000000, 5), (50, 1000000, 6), (50, 1000000, 6))"
      ]
     },
     "execution_count": 21,
     "metadata": {},
     "output_type": "execute_result"
    }
   ],
   "source": [
    "conditions.shape, X_train.shape, y_train.shape"
   ]
  },
  {
   "cell_type": "markdown",
   "metadata": {
    "id": "1f-NfQ1DuKYv"
   },
   "source": [
    "We train the $ckn_t$ XGBoost models, where $k$ is the number of classes (3), $c$ is the number of input variables (4), and $n_t$ is the number of time levels (50) ."
   ]
  },
  {
   "cell_type": "code",
   "execution_count": 55,
   "metadata": {
    "id": "bB0kQI8zsSpB"
   },
   "outputs": [],
   "source": [
    "# Function used for training one model\n",
    "\n",
    "\n",
    "def train_parallel(X_train, y_train, conditions):\n",
    "    model = xgb.XGBRegressor(\n",
    "        n_estimators=n_estimators,\n",
    "        objective=\"reg:squarederror\",\n",
    "        eta=eta,\n",
    "        max_depth=max_depth,\n",
    "        reg_lambda=reg_lambda,\n",
    "        reg_alpha=reg_alpha,\n",
    "        subsample=subsample,\n",
    "        seed=666,\n",
    "        tree_method=tree_method,\n",
    "        device=\"cpu\",\n",
    "    )\n",
    "    \n",
    "    X_train = np.concatenate([X_train, conditions], axis=1)\n",
    "    model.fit(X_train, y_train)\n",
    "\n",
    "    return model"
   ]
  },
  {
   "cell_type": "code",
   "execution_count": 56,
   "metadata": {
    "colab": {
     "base_uri": "https://localhost:8080/"
    },
    "id": "FR6zUk0asDQ5",
    "outputId": "878152dc-9b1d-432c-bc18-2b6bee5dfbc1"
   },
   "outputs": [
    {
     "name": "stderr",
     "output_type": "stream",
     "text": [
      "Training progress:   0%|          | 0/50 [00:00<?, ?it/s]\n",
      "Training progress:   0%|          | 0/50 [15:23<?, ?it/s]\n",
      "\n",
      "\u001b[A\n",
      "\u001b[A\n",
      "\u001b[A\n",
      "\u001b[A\n",
      "\u001b[A\n",
      "\u001b[A\n",
      "\u001b[A\n",
      "\u001b[A\n",
      "\u001b[A\n",
      "\u001b[A\n",
      "\u001b[A\n",
      "\u001b[A\n",
      "\u001b[A\n",
      "\u001b[A\n",
      "\u001b[A\n",
      "\u001b[A\n",
      "\u001b[A\n",
      "\u001b[A\n",
      "\u001b[A\n",
      "\u001b[A\n",
      "\u001b[A\n",
      "\u001b[A\n",
      "\u001b[A\n",
      "\u001b[A\n",
      "\u001b[A\n",
      "\u001b[A\n",
      "\u001b[A\n",
      "\u001b[A\n",
      "\u001b[A\n",
      "\u001b[A\n",
      "\u001b[A\n",
      "\u001b[A\n",
      "\u001b[A\n",
      "\u001b[A\n",
      "\u001b[A\n",
      "\u001b[A\n",
      "\u001b[A\n",
      "\u001b[A\n",
      "\u001b[A\n",
      "\u001b[A\n",
      "\u001b[A\n",
      "\u001b[A\n",
      "\u001b[A\n",
      "\u001b[A\n",
      "\u001b[A\n",
      "\u001b[A\n",
      "100%|██████████| 50/50 [04:06<00:00,  4.93s/it]\n"
     ]
    }
   ],
   "source": [
    "from tqdm import tqdm\n",
    "from tqdm_joblib import tqdm_joblib\n",
    "from joblib import Parallel, delayed\n",
    "\n",
    "cond_num_features = conditions.shape[1]\n",
    "\n",
    "def train_parallel_with_tqdm(i):\n",
    "    return train_parallel(\n",
    "        X_train.reshape(n_t, b * duplicate_K, c)[i],\n",
    "        y_train.reshape(n_t, b * duplicate_K, c)[i],\n",
    "        conditions,\n",
    "    )\n",
    "\n",
    "total_iterations = n_t \n",
    "with tqdm_joblib(tqdm(desc=\"Training progress\", total=total_iterations)) as progress_bar:\n",
    "    regr = Parallel(n_jobs=-1)(\n",
    "        delayed(train_parallel_with_tqdm)(i)\n",
    "        for i in range(n_t)\n",
    "    )\n",
    "\n",
    "# Replace fits with a single loop to make things easier\n",
    "regr_ = [None for _ in range(n_t)]\n",
    "for i in range(n_t):\n",
    "    regr_[i] = regr[i]\n",
    "# regr = regr_\n"
   ]
  },
  {
   "cell_type": "markdown",
   "metadata": {
    "id": "v3arcvLGum4X"
   },
   "source": [
    "We generate data by solving the ODE."
   ]
  },
  {
   "cell_type": "code",
   "execution_count": 26,
   "metadata": {
    "id": "o77nB480vQNO"
   },
   "outputs": [],
   "source": [
    "# Return the flow at time t using the XGBoost models\n",
    "\n",
    "\n",
    "def my_model(t, xt, cond):\n",
    "    # Output from the models\n",
    "    out = np.zeros(xt.shape)  # [b, c]\n",
    "    i = int(round(t * (n_t - 1)))\n",
    "    x = np.concatenate([xt, cond], axis=1)\n",
    "    out = regr[i].predict(x)\n",
    "    return out"
   ]
  },
  {
   "cell_type": "code",
   "execution_count": 27,
   "metadata": {
    "id": "XCSiPfy-topJ"
   },
   "outputs": [],
   "source": [
    "# Simple Euler ODE solver (nothing fancy)\n",
    "\n",
    "\n",
    "def euler_solve(x0, my_model,N=100):\n",
    "    h = 1 / (N - 1)\n",
    "    x_fake = x0\n",
    "    t = 0\n",
    "    # from t=0 to t=1\n",
    "    for i in range(N - 1):\n",
    "        x_fake = x_fake + h * my_model(t=t, xt=x_fake)\n",
    "        t = t + h\n",
    "    return x_fake"
   ]
  },
  {
   "cell_type": "code",
   "execution_count": 46,
   "metadata": {
    "id": "ap2rI0zhs7Fp"
   },
   "outputs": [
    {
     "name": "stdout",
     "output_type": "stream",
     "text": [
      "(100000, 6)\n"
     ]
    },
    {
     "data": {
      "text/plain": [
       "(100000, 6)"
      ]
     },
     "execution_count": 46,
     "metadata": {},
     "output_type": "execute_result"
    }
   ],
   "source": [
    "# Generate prior noise\n",
    "batch_size = 100_000\n",
    "\n",
    "x0 = np.random.normal(size=(batch_size, c))\n",
    "print(x0.shape)\n",
    "\n",
    "df = pd.read_csv('/global/homes/r/rradev/near_to_far/data/ndfd_reco_only_cuts.noFDhasel_oldg4params.csv')[-100_000:]\n",
    "\n",
    "# ODE solve\n",
    "my_model = partial(my_model, cond=df[cond_cols].values)\n",
    "ode_solved = euler_solve(\n",
    "    my_model=my_model, x0=x0, N=n_t\n",
    ")  # [t, b*c]\n",
    "solution = ode_solved.reshape(batch_size, c)  # [b, c]\n",
    "\n",
    "# # invert the min-max normalization\n",
    "# solution = scaler.inverse_transform(solution)\n",
    "\n",
    "# # clip to min/max values\n",
    "# small = (solution < X_min).astype(float)\n",
    "# solution = small * X_min + (1 - small) * solution\n",
    "# big = (solution > X_max).astype(float)\n",
    "# solution = big * X_max + (1 - big) * solution\n",
    "\n",
    "# Concatenate the y label\n",
    "\n",
    "solution.shape"
   ]
  },
  {
   "cell_type": "markdown",
   "metadata": {
    "id": "W0n4u7bc0uOB"
   },
   "source": [
    "We just generated fake tabular data! Lets now compare the two dataset (real vs fake)."
   ]
  },
  {
   "cell_type": "code",
   "execution_count": 50,
   "metadata": {},
   "outputs": [
    {
     "data": {
      "image/png": "[encoded data removed]",
      "text/plain": [
       "<Figure size 1500x700 with 2 Axes>"
      ]
     },
     "metadata": {},
     "output_type": "display_data"
    }
   ],
   "source": [
    "import seaborn as sns\n",
    "sns.set_context(\"talk\")\n",
    "fig, ax = plt.subplots(1, 2, figsize=(15, 7))\n",
    "\n",
    "# join condition and prediction\n",
    "pred = pd.DataFrame(solution, columns=train_cols)\n",
    "true = df[train_cols]\n",
    "\n",
    "pred_cond = pd.DataFrame(conditions, columns=cond_cols)\n",
    "true_cond = pd.DataFrame(conditions, columns=cond_cols)\n",
    "\n",
    "pred = pd.concat([pred, pred_cond], axis=1)\n",
    "true = pd.concat([true, true_cond], axis=1)\n",
    "\n",
    "y_col = 'fd_numu_nu_E' #'eRecoP', 'eRecoN', 'eRecoPip', 'eRecoPim', 'eRecoPi0', 'eRecoOther', 'Ev_reco', 'Elep_reco', 'theta_reco'            \n",
    "x_col = 'fd_nue_nu_E' \n",
    "by_name = lambda col, df: df[col].values\n",
    "x = by_name(x_col, pred)\n",
    "y = by_name(y_col, pred)\n",
    "bins_y = np.linspace(0, 6, 40)\n",
    "bins_x = np.linspace(0, 6, 40)\n",
    "ax[0].hist2d(x, y, bins=(bins_x, bins_y), cmin=0)\n",
    "ax[0].set_xlabel(x_col)\n",
    "ax[0].set_ylabel(y_col)\n",
    "ax[0].set_title('predicted')\n",
    "\n",
    "x = by_name(x_col, true)\n",
    "y = by_name(y_col, true)\n",
    "ax[1].hist2d(x, y, bins=(bins_x, bins_y), cmin=0)\n",
    "ax[1].set_xlabel(x_col)\n",
    "ax[1].set_title('true');"
   ]
  },
  {
   "cell_type": "code",
   "execution_count": null,
   "metadata": {},
   "outputs": [
    {
     "data": {
      "text/plain": [
       "<matplotlib.legend.Legend at 0x32bc08390>"
      ]
     },
     "execution_count": 293,
     "metadata": {},
     "output_type": "execute_result"
    },
    {
     "data": {
      "image/png": "[encoded data removed]",
      "text/plain": [
       "<Figure size 1200x700 with 1 Axes>"
      ]
     },
     "metadata": {},
     "output_type": "display_data"
    }
   ],
   "source": [
    "# plot in 1d    \n",
    "fig, ax = plt.subplots(1, 1, figsize=(12, 7))\n",
    "bin_range = (0, 25)\n",
    "bins = 40\n",
    "x_col = 'fd_nue_had_E'\n",
    "x = by_name(x_col, pred)\n",
    "true_x = by_name(x_col, true)\n",
    "\n",
    "common_params = dict(bins=bins, range=bin_range, alpha=0.5, density=True, histtype='step', lw=3)\n",
    "ax.hist(x, **common_params, label='predicted');\n",
    "ax.hist(true_x, **common_params, label='true');\n",
    "ax.set_xlabel(x_col)\n",
    "plt.legend()"
   ]
  },
  {
   "cell_type": "code",
   "execution_count": null,
   "metadata": {},
   "outputs": [
    {
     "data": {
      "image/png": "[encoded data removed]",
      "text/plain": [
       "<Figure size 640x480 with 1 Axes>"
      ]
     },
     "metadata": {},
     "output_type": "display_data"
    }
   ],
   "source": [
    "plt.hist2d(Xy_true[:, dim], Xy_true[:, dim+1], bins=20, range=[bin_range, bin_range]);"
   ]
  }
 ],
 "metadata": {
  "colab": {
   "provenance": []
  },
  "kernelspec": {
   "display_name": "NERSC Python",
   "language": "python",
   "name": "python3"
  },
  "language_info": {
   "codemirror_mode": {
    "name": "ipython",
    "version": 3
   },
   "file_extension": ".py",
   "mimetype": "text/x-python",
   "name": "python",
   "nbconvert_exporter": "python",
   "pygments_lexer": "ipython3",
   "version": "3.10.12"
  }
 },
 "nbformat": 4,
 "nbformat_minor": 4
}
